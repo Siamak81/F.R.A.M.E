{
 "cells": [
  {
   "attachments": {},
   "cell_type": "markdown",
   "metadata": {},
   "source": [
    "<center>\n",
    "    <img src=\"https://framerusercontent.com/images/HbydFulsqobMpVBSsY4NqQi4I.png\" width=\"300\" alt=\"cognitiveclass.ai logo\"  />\n",
    "</center>\n",
    "\n",
    "\n",
    "# F.R.A.M.E\n",
    "## Risk Assessment"
   ]
  },
  {
   "attachments": {},
   "cell_type": "markdown",
   "metadata": {},
   "source": [
    "#### Load required libraries"
   ]
  },
  {
   "cell_type": "code",
   "execution_count": 1,
   "metadata": {},
   "outputs": [],
   "source": [
    "import numpy as np"
   ]
  },
  {
   "attachments": {},
   "cell_type": "markdown",
   "metadata": {},
   "source": [
    "# Calculating P factor\n",
    "\n",
    "#### The Potential Risk P is defined as the product of the fire load factor q, the spread factor i, the area factor g, the level factor e, the venting factor v, and the access factor z.\n",
    "\n",
    "#### P = q * i * g * e * v * z\n",
    "#### P1 = q * i * e * v * z\n",
    "#### P2 = g * i * e * v * z"
   ]
  },
  {
   "attachments": {},
   "cell_type": "markdown",
   "metadata": {},
   "source": [
    "### Fire load factor q\n",
    "\n",
    "#### Examples for Immobile (building) fire load density:\n",
    "#####    1. Totally Incombustible ( e.g. concrete / steel only) = 0 MJ/m²\n",
    "#####    2. Incombustible construction, with max. 10% allowance for combustible construction elements as windows, roof covering, etc. = 100 MJ/m²\n",
    "#####    3. Wooden structure  finished with incombustible materials. = 300 MJ/m²\n",
    "#####    4. Masonry construction with wooden floors and girders. = 300 MJ/m²\n",
    "#####    5. Incombustible structure, combustible finishing. = 1000 MJ/m²\n",
    "#####    6. Totally combustible construction. = 1500 MJ/m²\n",
    "\n",
    "\n",
    "#### Examples forMobile (moveable) fire load density:\n",
    "#####    1. Low fire hazard (LH or light hazard) occupancies = 200 MJ/m²\n",
    "#####    2. Offices = 400 MJ/m²\n",
    "#####    3. Dwellings = 500 MJ/m²\n",
    "#####    4. Schools = 200 MJ/m²\n",
    "#####    5. Hospitals, Hotels = 250 MJ/m²\n",
    "#####    6. Ordinary fire hazard with low fire load (OH1 / NFPA: OH Gp1) = 600 MJ/m²\n",
    "#####    7. Ordinary fire hazard with medium fire load (OH2 / NFPA OH Gp2) = 1500 MJ/m²\n",
    "#####    8. Ordinary fire hazard with high fire load (OH3 / NFPA OH Gp2+) = 2000 MJ/m²\n",
    "#####    9. Ordinary fire hazard with very high fire load (OH4) = 2500 MJ/m²\n",
    "#####    10. High hazard class HH1 = 2500 MJ/m²"
   ]
  },
  {
   "cell_type": "code",
   "execution_count": 23,
   "metadata": {},
   "outputs": [],
   "source": [
    "Qi = float(input(\"Immobile (building) fire load density(MJ/m²):\"))\n",
    "Qm = float(input(\"Mobile (building) fire load density(MJ/m²):\"))\n",
    "q =(2/3)*(np.log10(Qi+Qm))-0.55"
   ]
  },
  {
   "cell_type": "code",
   "execution_count": 26,
   "metadata": {},
   "outputs": [
    {
     "name": "stdout",
     "output_type": "stream",
     "text": [
      "1.8513733275519748\n"
     ]
    }
   ],
   "source": [
    "print(q)"
   ]
  },
  {
   "attachments": {},
   "cell_type": "markdown",
   "metadata": {},
   "source": [
    "### Fire spread factor i\n",
    "\n",
    "#### Examples for Temperature rise:\n",
    "#####    1. WEIGHED AVERAGE of the following classes (link to Info P) = 252 MJ/m²\n",
    "#####    2. Inflammable liquids ( FP <21 °C or 70 °F) = 20 MJ/m²\n",
    "#####    3. Plastics, electronics, human beings ( 100 °C -  212 °F) = 100 MJ/m²\n",
    "#####    4. Textile, wood, paper, food (200 °C - 400 °F) = 200 MJ/m²\n",
    "#####    5. Average content of residential buildings  ( 250 °C - 482 °F) = 250 MJ/m²\n",
    "#####    6. Machinery, household appliances ( 300 °C - 572 °F) = 300 MJ/m²\n",
    "#####    7. Metal objects (400 °C - 752 °F) = 400 MJ/m²\n",
    "#####    8. Non combustible (construction) materials ( 500 °C - 932 °F) = 500 MJ/m²\n",
    "\n",
    "\n",
    "#### Examples for Reaction to fire class of surfaces:\n",
    "#####    1. Incombustible e.g.  Class A1 per EN13501-1  = 0 MJ/m²\n",
    "#####    2. Nearly incombustible  e.g.  Class A2 per EN13501-1 = 0.5 MJ/m²\n",
    "#####    3. Difficult to ignite (self extinguishing), e.g.  Class B per EN13501- 1 or EN12845 Cat. I  = 1 MJ/m²\n",
    "#####    4. Slowly burning materials  e.g.  Class C  per EN13501-1  = 2 MJ/m²\n",
    "#####    5. Combustible surfaces  e.g.  Class D per EN13501 or EN12845 cat. II = 3 MJ/m²\n",
    "#####    6. Flammable surfaces e.g.   Class E per EN13501-1 or EN12845 Cat. III  = 4 MJ/m²\n",
    "#####    7. Highly flammable surfaces   e.g  Class F per EN13501-1 or  EN12845 Cat. IV. = 5 MJ/m²"
   ]
  },
  {
   "cell_type": "code",
   "execution_count": 27,
   "metadata": {},
   "outputs": [],
   "source": [
    "T = float(input(\"Temperature rise:\"))\n",
    "m = float(input(\"Average dimension of content:\"))\n",
    "M = float(input(\"Reaction to fire class of surfaces:\"))\n",
    "\n",
    "i = 1-(T / 1000.0)-0.1 * np.log10(m) + (M / 10.0)"
   ]
  },
  {
   "cell_type": "code",
   "execution_count": 28,
   "metadata": {},
   "outputs": [
    {
     "name": "stdout",
     "output_type": "stream",
     "text": [
      "500.0\n",
      "0.42\n",
      "5.0\n",
      "1.0376750709602098\n"
     ]
    }
   ],
   "source": [
    "print(T)\n",
    "print(m)\n",
    "print(M)\n",
    "print(i)"
   ]
  },
  {
   "attachments": {},
   "cell_type": "markdown",
   "metadata": {},
   "source": [
    "### Area factor g\n",
    "\n"
   ]
  },
  {
   "cell_type": "code",
   "execution_count": 46,
   "metadata": {},
   "outputs": [],
   "source": [
    "L = float(input(\"Theoretical length(m):\"))\n",
    "Atot = float(input(\"Total compartment area(m²):\"))\n",
    "if Atot == 0.0 :\n",
    "    Atot = L\n",
    "    \n",
    "frontage = input(\"Frontage(long or narrow):\")\n",
    "b = Atot / L\n",
    "g = 0.0\n",
    "\n",
    "if frontage == \"long\":\n",
    "    g = (b + 5 * np.power((b * b * L),(1/3))) / 200\n",
    "    \n",
    "else:\n",
    "    g = (L+5*np.power((L*L*b),(1/3)))/200"
   ]
  },
  {
   "cell_type": "code",
   "execution_count": 48,
   "metadata": {},
   "outputs": [
    {
     "name": "stdout",
     "output_type": "stream",
     "text": [
      "3.893022020743632\n"
     ]
    }
   ],
   "source": [
    "print(g)"
   ]
  },
  {
   "attachments": {},
   "cell_type": "markdown",
   "metadata": {},
   "source": [
    "### Venting factor v\n",
    "\n",
    "#### Floor to ceiling height: Define the average height between floor and ceiling in the compartment.\n",
    "#### Mobile (moveable) fire load density: The mobile fire load Qm, which is already entered, is used here.\n",
    "#### Smoke venting ratio: Define the smoke-venting ratio k as follows:\n",
    "####    k1 = Total area of single glazed windows, glass and plastic skylights in the ceiling (roof) and upper third op the walls giving to the outside.(m²)\n",
    "####    k2 = Measure the aerodynamic area of static smoke vents in m².\n",
    "####    k3 = Nominal flow of mechanical (smoke) ventilation systems.(Nm³/h)"
   ]
  },
  {
   "cell_type": "code",
   "execution_count": 43,
   "metadata": {},
   "outputs": [],
   "source": [
    "h = float(input(\"Floor to ceiling height(m):\"))\n",
    "k1 = float(input(\"k1:\"))\n",
    "k2 = float(input(\"k2:\"))\n",
    "k3 = float(input(\"k3:\")) / 10000\n",
    "k = float(input(\"if you calculated k factor insert it,else inser 0:\"))\n",
    "kSum = (0.3*k1 + k2 + k3) / Atot\n",
    "kFinal = 0\n",
    "if k > kSum :\n",
    "    kFinal = k\n",
    "else:\n",
    "    kFinal = kSum\n",
    "    \n",
    "v = 0.84 + (0.1 * np.log10(Qm)) - np.sqrt(kFinal*np.sqrt(h))"
   ]
  },
  {
   "cell_type": "code",
   "execution_count": 45,
   "metadata": {},
   "outputs": [
    {
     "name": "stdout",
     "output_type": "stream",
     "text": [
      "0.8825826430996839\n"
     ]
    }
   ],
   "source": [
    "print(v)\n"
   ]
  },
  {
   "attachments": {},
   "cell_type": "markdown",
   "metadata": {},
   "source": [
    "### Level factor e\n",
    "#### Level: Mezzanines and platforms  (add decimal value to level number)\n",
    "\n"
   ]
  },
  {
   "cell_type": "code",
   "execution_count": 59,
   "metadata": {},
   "outputs": [],
   "source": [
    "E = float(input(\"Level:\"))\n",
    "e = np.power(((np.abs(E)+3) / ((np.abs(E)+2))),(0.7 * np.abs(E)))\n",
    " "
   ]
  },
  {
   "cell_type": "code",
   "execution_count": 60,
   "metadata": {},
   "outputs": [
    {
     "name": "stdout",
     "output_type": "stream",
     "text": [
      "1.3667025924290976\n"
     ]
    }
   ],
   "source": [
    "print(e)"
   ]
  },
  {
   "attachments": {},
   "cell_type": "markdown",
   "metadata": {},
   "source": [
    "### Access factor z\n",
    "#### The number of access directions: The number of accessible directions is Z (1 to 4).\n",
    "#### Height difference: Height difference in meter (positive or negative) \n",
    "\n"
   ]
  },
  {
   "cell_type": "code",
   "execution_count": 62,
   "metadata": {},
   "outputs": [],
   "source": [
    "Z = float(input(\"The number of access directions:\"))\n",
    "H = float(input(\"Height difference:\"))\n",
    "if H < 0 :\n",
    "    Hnum = H / -3\n",
    "else:\n",
    "    Hnum = H / 25\n",
    "z = 1+0.05*np.intc((b/(20*Z))+(Hnum))\n"
   ]
  },
  {
   "cell_type": "code",
   "execution_count": 63,
   "metadata": {},
   "outputs": [
    {
     "name": "stdout",
     "output_type": "stream",
     "text": [
      "1.05\n"
     ]
    }
   ],
   "source": [
    "print(z)"
   ]
  },
  {
   "attachments": {},
   "cell_type": "markdown",
   "metadata": {},
   "source": [
    "## Calaculating P:\n",
    "### p = property (building and content)\n",
    "### p1 = occupants (people)\n",
    "### p2 = activities"
   ]
  },
  {
   "cell_type": "code",
   "execution_count": 64,
   "metadata": {},
   "outputs": [],
   "source": [
    "p = q*g*i*e*v*z\n",
    "p1 = q*i*e*v*z\n",
    "p2 = g*i*e*v*z"
   ]
  },
  {
   "cell_type": "code",
   "execution_count": 66,
   "metadata": {},
   "outputs": [
    {
     "name": "stdout",
     "output_type": "stream",
     "text": [
      "p:9.4724199966665\n",
      "p1:2.433179146224585\n",
      "p2:5.116428899400667\n"
     ]
    }
   ],
   "source": [
    "print(\"p:\" + str(p))\n",
    "print(\"p1:\" + str(p1))\n",
    "print(\"p2:\" + str(p2))"
   ]
  },
  {
   "attachments": {},
   "cell_type": "markdown",
   "metadata": {},
   "source": [
    "# Calculating A factor\n",
    "\n",
    "#### The Acceptance Level A is defined as the maximum value 1.6 minus the activation factor a, the evacuation time factor t, and the value factor c.\n",
    "\n",
    "#### A = 1.6 - a - t - c\n",
    "#### A1 = 1.6 - a - t - r\n",
    "#### A2 = 1.6 - a - c - d"
   ]
  },
  {
   "attachments": {},
   "cell_type": "markdown",
   "metadata": {},
   "source": [
    "### Activation factor a\n",
    "\n",
    "#### Some examples for Main activities(a1):\n",
    "####    1. Non industrial occupancies: offices, residential, assembly, educational = 0\n",
    "####    2. Industry of non-combustible products ( EN Sprinkler class OH1) = 0\n",
    "####    3. Most industries, large stores, retail shops ( EN Sprinkler classes OH2 and OH3) = 0.2\n",
    "####    4. Industry of combustible products such as paper, wood, petrochemicals (OH4 / HH1-HH4 ) = 0.4\n",
    "####    5. Warehouses and similar storage  (Sprinkler class S) = 0\n",
    "\n",
    "\n",
    "#### Some examples for Process and room(a2):\n",
    "####    1. No heating available: no risk = 0\n",
    "####    2. Heat transfer through water, steam, or solids = 0\n",
    "####    3. Heat transfer through pulsed air or through oil. = 0.5\n",
    "\n",
    "#### Some examples for heating systems(a3):\n",
    "####    1. Not applicable = 0\n",
    "####    2. Heat generator in a fireproof separated room = 0\n",
    "####    3. Heat generator in the compartment under consideration. = 0.1\n",
    "\n",
    "#### Some examples for Energy source(a4):\n",
    "####    1. Not applicable = 0\n",
    "####    2. Energy source: electricity, coal, fuel oil. = 0\n",
    "####    3. Energy source: gas = 0.1\n",
    "####    4. Energy source: wood or waste materials: gas = 0.15\n",
    "\n",
    "#### Some examples for Electrical Installations(a5):\n",
    "####    1. In compliance with the rules and regularly checked = 0\n",
    "####    2. In compliance with the rules without regular checks = 0.1\n",
    "####    3. Not according the rules = 0.2\n",
    "\n",
    "#### Some examples for Explosion risks(a6):\n",
    "####    1. Not applicable = 0\n",
    "####    2. Permanent explosion risk ATEX zone 0 = 0.3\n",
    "####    3. Explosion risk under normal conditions ATEX zone 1, NEC: Class I Div.1 = 0.2\n",
    "####    4. Occasional explosion risk ATEX Zone 2  NEC: CLASS I DIV.2 area = 0.1\n",
    "\n",
    "#### Some examples for Dust hazard(a7):\n",
    "####    1. Not applicable = 0\n",
    "####    2. Dust explosion hazard ATEX zones 20/21/22  NEC : Class II area = 0.2\n",
    "####    3. Production of combustible dusts without extraction = 0.1\n",
    "\n",
    "#### Some examples for Painting, spraying, glues, etc.(a10):\n",
    "####    1. None = 0\n",
    "####    2. In a separated, well ventilated room = 0.05\n",
    "####    3. In a separated space without additional ventilation = 0.1\n",
    "####    4. Without separation = 0.2"
   ]
  },
  {
   "cell_type": "code",
   "execution_count": 4,
   "metadata": {},
   "outputs": [],
   "source": [
    "a1 = float(input(\"Main activities(a1):\"))\n",
    "a2 = float(input(\"Process and room(a2):\"))\n",
    "a3 = float(input(\"heating systems(a3):\"))\n",
    "a4 = float(input(\"Energy source(a4):\"))\n",
    "a5 = float(input(\"Electrical Installations(a5):\"))\n",
    "a6 = float(input(\"Explosion risks(a6):\"))\n",
    "a7 = float(input(\"Dust hazard(a7):\"))\n",
    "a8 = str(input(\"Secondary activities(a8,NO secondary welding operations):(OK/NOK)\"))\n",
    "a9 = str(input(\"Secondary activities(a9,NO additional woodworking or use of plastics):(OK/NOK)\"))\n",
    "a10 = float(input(\"Painting, spraying, glues, etc.(a10):\"))\n",
    "a11 = str(input(\"Others(a11,NO Special hazards (e.g. non-controllable smokers)):(OK/NOK)\"))\n",
    "\n",
    "if a8 == \"OK\":\n",
    "    a8 = 0.0\n",
    "else:\n",
    "    a8 = 0.1\n",
    "    \n",
    "if a9 == \"OK\":\n",
    "    a9 = 0.0\n",
    "else:\n",
    "    a9 = 0.1\n",
    "    \n",
    "if a11 == \"OK\":\n",
    "    a11 = 0.0\n",
    "else:\n",
    "    a11 = 0.1\n",
    "    \n",
    "a = (a1+a2+a3+a4+a5+a6+a7+a8+a9+a10+a11)"
   ]
  },
  {
   "cell_type": "code",
   "execution_count": 5,
   "metadata": {},
   "outputs": [
    {
     "name": "stdout",
     "output_type": "stream",
     "text": [
      "8.0\n"
     ]
    }
   ],
   "source": [
    "print(a)"
   ]
  },
  {
   "attachments": {},
   "cell_type": "markdown",
   "metadata": {},
   "source": [
    "### Evacuation time factor t\n",
    "\n",
    "#### Some examples for Number of occupants(X):\n",
    "####    1. Waiting spaces = 0 persons/m²\n",
    "####    2. Places of assembly, concentrated use (halls, churches, dancing) = 1.5 persons/m²\n",
    "####    3. Places of assembly, normal use (conference rooms, restaurants, cafés) = 0.6 persons/m²\n",
    "####    4. Classrooms in schools, no fixed seating = 0.5 persons/m²\n",
    "####    5. Day nurseries = 0.3 persons/m²\n",
    "####    6. Schools: laboratories, shops and vocational rooms = 0.2 persons/m²\n",
    "####    7. Medical institutions = 0.1 persons/m²\n",
    "####    8. Jails, detention houses = 0.1 persons/m²\n",
    "####    9. Residential buildings (houses, hotels, guest houses) = 0.05 persons/m²\n",
    "####    10. Sales area on street access  floor, below  street access floor = 0.3 persons/m²\n",
    "####    11. Sales area on floors above access floorr = 0.2 persons/m²\n",
    "\n",
    "#### Total of exit units(x): x is the number of exit units. The minimal width for an exit is 0.6 m (or 2 ft) unless law or practical conditions specify it otherwise.\n",
    "\n",
    "#### Exits to outside the building(O): Number of exits (doors and stairs) that end in the open air.\n",
    "\n",
    "#### Some examples for Mobility factor(p):\n",
    "####    1. Mobile and independent persons ( adults, workers) = 1\n",
    "####    2. Mobile persons needing guidance ( pupils, visitors) = 2\n",
    "####    3. Persons with limited mobility (patients, elderly, inmates) = 8\n",
    "####    4. Persons who need individual help for evacuation: bedbound patients, wheelchair users, mentally disturbed , … = 20\n"
   ]
  },
  {
   "cell_type": "code",
   "execution_count": null,
   "metadata": {},
   "outputs": [],
   "source": [
    "X = input(\"Number of occupants:(if you defined total number of persons in the compartment, insert \\\"m\\\", else use the number on examples above.)\")\n",
    "if X == \"m\":\n",
    "    X = float(input(\"insert your defined total number of persons in the compartment:\"))\n",
    "else:\n",
    "    X = float(X) * b * L\n",
    "    \n",
    "x = float(input(\"Total of exit units:\"))\n",
    "O = float(input(\"Exits to outside the building:\"))\n",
    "if O > 4:\n",
    "    O = 4.0\n",
    "k = (x * 120) / X\n",
    "if k < 1:\n",
    "    kFinal = 0.0\n",
    "else:\n",
    "    if k < 2:\n",
    "        kFinal = 1.0\n",
    "    else:\n",
    "        if k < 3:\n",
    "            kFinal = 2\n",
    "        else:\n",
    "            if k < 4:\n",
    "                kFinal = 3\n",
    "            else:\n",
    "                if k > O:\n",
    "                    kFinal = O\n",
    "                else:\n",
    "                    kFinal = 4.0\n",
    "                    \n",
    "p4 = float(input(\"Mobility factor:\"))\n",
    "p1 = input(\"NO people with limited perception of the risk present:(OK/NOK)\")\n",
    "if p1 == \"OK\":\n",
    "    p1 = 0.0\n",
    "else:\n",
    "    p1 = 2\n",
    "p2 = input(\"There is a clear evacuation plan:(OK/NOK)\")\n",
    "if p2 == \"OK\":\n",
    "    p2 = 0.0\n",
    "else:\n",
    "    p2 = 2\n",
    "p3 = input(\"There is NO danger for panic:(OK/NOK)\")\n",
    "if p3 == \"OK\":\n",
    "    p3 = 0.0\n",
    "else:\n",
    "    p3 = 2\n",
    "p = p1 + p2 + p3 + p4\n",
    "\n",
    "if H < 0:\n",
    "    q = -2\n",
    "else:\n",
    "    q = 1.25\n",
    "m = H * q\n",
    "\n",
    "calculatedEgress = (p*x*((b+L)+(X/x)+m)*(b+L))/(1.11*K*(1.4*x*(b+L)-0.44*X))\n",
    "\n",
    "RSET = float(input(\"RSET(As defined with EGRESS SIMULATION software):\"))\n",
    "\n",
    "if RSET > 0:\n",
    "    t = RSET / 550\n",
    "else:\n",
    "    t = calculatedEgress / 720\n",
    "\n",
    "\n"
   ]
  },
  {
   "cell_type": "code",
   "execution_count": null,
   "metadata": {},
   "outputs": [],
   "source": [
    "print(t)"
   ]
  },
  {
   "attachments": {},
   "cell_type": "markdown",
   "metadata": {},
   "source": [
    "### Content factor c\n",
    "\n",
    "#### Some examples for Relative value(c1):\n",
    "####    1. a. the contents can be easily replaced = 0\n",
    "####    2. the contents can difficulty be replaced = 0.1\n",
    "####    3. the contents are unique. = 0.2 \n"
   ]
  },
  {
   "cell_type": "code",
   "execution_count": 15,
   "metadata": {},
   "outputs": [],
   "source": [
    "c1 = float(input(\"Relative value:\"))\n",
    "c3 = float(input(\"Absolute value of property(Actual value in million of CURRENCY (e.g. EUR, GBP, USD, SWF... )):\"))\n",
    "c4 = float(input(\"Building cost index(EURO AREA GDP DEFLATOR VALUE  this year):\"))\n",
    "c5 = float(input(\"Correction for inflation(EURO AREA GDP DEFLATOR VALUE  in 2000):\"))\n",
    "c6 = float(input(\"Exchange rate(1 CURRENCY  =  x.yz  EURO):\"))\n",
    "c7 = (c3 * c5 * c6) / c4\n",
    "if c7 < 7:\n",
    "    c2 = 0\n",
    "else:\n",
    "    c2 = (np.log10(c7/7)) / 4\n",
    "    \n",
    "c = c1 + c2"
   ]
  },
  {
   "cell_type": "code",
   "execution_count": 16,
   "metadata": {},
   "outputs": [
    {
     "name": "stdout",
     "output_type": "stream",
     "text": [
      "0.3689301784845296\n"
     ]
    }
   ],
   "source": [
    "print(c)"
   ]
  },
  {
   "attachments": {},
   "cell_type": "markdown",
   "metadata": {},
   "source": [
    "### Environment factor r\n"
   ]
  },
  {
   "cell_type": "code",
   "execution_count": null,
   "metadata": {},
   "outputs": [],
   "source": [
    "r = 0.1 * np.log10(Qi + 1) + M / 10"
   ]
  },
  {
   "attachments": {},
   "cell_type": "markdown",
   "metadata": {},
   "source": [
    "### Dependency factor d\n",
    "#### Some examples for Added value /turnover ratio:\n",
    "####    a. High technology industry (e.g. aircraft) : 0.7 to 0.9\n",
    "####    b. Precision industry (e.g. electronics) : 0.45 to 0.7\n",
    "####    c. Manufacturing industry  : 0.25 to 0.45\n",
    "####    d. Commercial companies, warehouses: 0.05 to 0.15\n",
    "####    e. Administrative services: 0.8\n",
    "####    f. Average for most businesses: 0.3\n"
   ]
  },
  {
   "cell_type": "code",
   "execution_count": null,
   "metadata": {},
   "outputs": [],
   "source": [
    "d = float(input(\"Added value /turnover ratio:\"))"
   ]
  },
  {
   "attachments": {},
   "cell_type": "markdown",
   "metadata": {},
   "source": [
    "## Calaculating A:\n",
    "### A =  property (building and content)\n",
    "### A1 =  occupants (people)\n",
    "### A2 =  activities"
   ]
  },
  {
   "cell_type": "code",
   "execution_count": null,
   "metadata": {},
   "outputs": [],
   "source": [
    "A = 1.6 - a - t - c\n",
    "A1 = 1.6 - a - t - r\n",
    "A2 = 1.6 - a - c - d"
   ]
  },
  {
   "cell_type": "code",
   "execution_count": null,
   "metadata": {},
   "outputs": [],
   "source": [
    "print(A)\n",
    "print(A1)\n",
    "print(A2)"
   ]
  },
  {
   "attachments": {},
   "cell_type": "markdown",
   "metadata": {},
   "source": [
    "# Calculating D factor\n",
    "\n",
    "#### The Protection Level D is defined as the product of the water supply factor W, the normal protection factor N, the special protection factor S and the fire resistance factor F.\n",
    "\n",
    "#### D = W * N * S * F\n",
    "#### D1 = N * U\n",
    "#### D2 = W * N * S * Y"
   ]
  },
  {
   "attachments": {},
   "cell_type": "markdown",
   "metadata": {},
   "source": [
    "### Water supply factor W\n",
    "#### Some examples for Water storage type:\n",
    "####    1. Water storage for general use, automatically filled = 0\n",
    "####    2. Water storage for general use, manually filled = 4\n",
    "####    3. No water storage available = 10\n",
    "\n",
    "#### Some examples for Nominal diameter of main water piping:\n",
    "####    1. None or < DIA 80 = 0 mm\n",
    "####    2. DIA   80 (3\") = 34.3 mm\n",
    "####    3. DIA 100 (4\") = 59.2 mm\n",
    "####    4. DIA 150 (6\") = 134.3 mm\n",
    "####    5. DIA 200 (8\") = 232.3 mm\n",
    "####    6. DIA 250 (10\") = 366.8 mm\n",
    "####    7. DIA 300 (12\") = 526.1 mm\n",
    "####    8. DIA 350 (14\") or more = 676.9 mm\n"
   ]
  },
  {
   "cell_type": "code",
   "execution_count": null,
   "metadata": {},
   "outputs": [],
   "source": [
    "w1 = float(input(\"w1 factor(Water storage type):\"))\n",
    "eCapacity = float(input(\"Water storage capacity(m³):\"))\n",
    "rCapacity = (Qi + Qm) / 4\n",
    "if eCapacity < rCapacity:\n",
    "    w2 = eCapacity / rCapacity\n",
    "else:\n",
    "    w2 = 1.0\n",
    "    \n",
    "if 0 <= w2 < 0.7:\n",
    "    w2 = 4.0\n",
    "elif 0.7 <= w2 < 0.8:\n",
    "    w2 = 3.0\n",
    "elif 0.8 <= w2 < 0.9:\n",
    "    w2 = 2.0\n",
    "elif 0.9 <= w2 < 1.0:\n",
    "    w2 = 1.0\n",
    "else:\n",
    "    w2 = 0.0\n",
    "\n",
    "nomDia = float(input(\"Nominal diameter of main water piping(mm):\"))\n",
    "loopNetwork = input(\"There is a clear evacuation plan:(OK/NOK)\")\n",
    "if loopNetwork == \"OK\":\n",
    "    loopNetwork = 2 * nomDia\n",
    "else:\n",
    "    loopNetwork = nomDia\n",
    "    \n",
    "if loopNetwork == 0.0:\n",
    "    w3 = 6.0\n",
    "else:\n",
    "    if loopNetwork >= (rCapacity / 2):\n",
    "        w3 = 0.0\n",
    "    else:\n",
    "        w3 = 2.0\n",
    "\n",
    "buildingPara = (L + b) * 2\n",
    "twoAndHalfConnection = float(input(\"Number of available 2.5\\\" (70) connections:\"))\n",
    "threeConnection = float(input(\"Number of available 3\\\" (80) connections:\"))\n",
    "fourConnection = float(input(\"Number of available 4\\\" (110) connections:\"))\n",
    "eqivalentNum = twoAndHalfConnection + threeConnection + (3 * fourConnection)\n",
    "w4 = buildingPara / eqivalentNum\n",
    "if w4 > 100:\n",
    "    w4 = 3.0\n",
    "else:\n",
    "    if w4 <= 50:\n",
    "        w4 = 0.0\n",
    "    else:\n",
    "        w4 = 1.0\n",
    "    \n",
    "staticPressure = H + h\n",
    "requiredPressure = (staticPressure + 35) * 0.1\n",
    "w5 = float(input(\"Available static pressure in the distribution network:\"))\n",
    "if w5 >= requiredPressure:\n",
    "    w5 = 0.0\n",
    "else:\n",
    "    w5 = 3.0\n",
    "    \n",
    "w = w1 + w2 + w3 + w4 + w5\n",
    "W = np.power(0.95,w)\n"
   ]
  },
  {
   "cell_type": "code",
   "execution_count": null,
   "metadata": {},
   "outputs": [],
   "source": [
    "print(W)"
   ]
  },
  {
   "attachments": {},
   "cell_type": "markdown",
   "metadata": {},
   "source": [
    "### Normal protection Factor N\n",
    "#### Some examples for Extinguishers:\n",
    "####    1. Extinguishers adequate (type and quantity) = 0\n",
    "####    2. Extinguishers absent or of inadequate numbers or types = 2\n",
    "\n",
    "#### Some examples for Fire hose stations:\n",
    "####    1. Adequate number and location = 0\n",
    "####    2. Inadequate numbers or location = 2\n",
    "####    3. None = 4\n",
    "\n",
    "#### Some examples for Fire brigade arrival:\n",
    "####    1. First fire brigade arrival in less than 10 min = 0\n",
    "####    2. Arrival after 10 to 15 min = 2\n",
    "####    3. Arrival after 15 to 30 min = 5\n",
    "####    4. More than 30 minutes delay = 10\n",
    "\n",
    "#### Some examples for Occupants' training:\n",
    "####    1. All occupants know how to use extinguishers, hose stations = 0\n",
    "####    2. Only a limited number of persons trained = 2\n",
    "####    3. No extinguisher training given = 4\n",
    "\n"
   ]
  },
  {
   "cell_type": "code",
   "execution_count": null,
   "metadata": {},
   "outputs": [],
   "source": [
    "n1 = input(\"Discovery(Continuous human presence , watchman service):(OK/NOK)\")\n",
    "if n1 == \"OK\":\n",
    "    n1 = 0.0\n",
    "else:\n",
    "    n1 = 2.0\n",
    "warning = input(\"Warning(There is also a (manually operated) warning system):(OK/NOK)\")\n",
    "if warning == \"OK\":\n",
    "    warning = 0.0\n",
    "else:\n",
    "    warning = 2.0\n",
    "\n",
    "call = input(\"Call to fire brigade(Guaranteed transmission to the fire service):(OK/NOK)\")\n",
    "if call == \"OK\":\n",
    "    call = 0.0\n",
    "else:\n",
    "    call = 2.0\n",
    "    \n",
    "Occupants = input(\"Occupants alarm(There is also an alarm to the occupants):(OK/NOK)\")\n",
    "if Occupants == \"OK\":\n",
    "    Occupants = 0.0\n",
    "else:\n",
    "    Occupants = 2.0\n",
    "    \n",
    "n2 = float(input(\"Extinguishers:\"))\n",
    "n3 = float(input(\"Fire hose stations:\"))\n",
    "n4 = float(input(\"Fire brigade arrival:\"))\n",
    "n5 = float(input(\"Occupants' training:\"))\n",
    "\n",
    "n = n1 + n2 + n3 + n4 + n5 + Occupants + call + warning\n",
    "N = np.power(0.95,n)"
   ]
  },
  {
   "cell_type": "code",
   "execution_count": null,
   "metadata": {},
   "outputs": [],
   "source": [
    "print(N)"
   ]
  },
  {
   "attachments": {},
   "cell_type": "markdown",
   "metadata": {},
   "source": [
    "### Special protection factor S\n",
    "#### Some examples for Automatic fire detection:\n",
    "####    1. None = 0\n",
    "####    2. Automatic detection by sprinklers + flow or pressure switch = 4\n",
    "####    3. by thermal (heat) detectors = 5\n",
    "####    4. by smoke or flame detectors  = 8\n",
    "####    5. by smoke alarm units = 2\n",
    "\n",
    "\n",
    "#### Some examples for Pressure / Flow energy source:\n",
    "####    1. Single flow/pressure source = 0\n",
    "####    2. Highly reliable : One water storage with a double flow/pressure source = 5\n",
    "####    3. Duplicated highly reliable: two storages, each with a flow/pressure source = 12\n",
    "\n",
    "#### Some examples for Sprinkler protection:\n",
    "####    1. None = 0\n",
    "####    2. Sprinklers with one (public) water supply = 11\n",
    "####    3. Sprinklers with one independent water supply = 14\n",
    "####    4. Sprinklers with two independent water supplies = 20\n",
    "\n",
    "#### Some examples for Other automatic:\n",
    "####    1. WITH compartment protection by foam, water mist, powder, CO2, or inert gas = 11\n",
    "####    2. No other automatic extinguishing system = 0\n",
    "\n",
    "#### Some examples for Responding fire station:\n",
    "####    1. Full time station 24 h/24  7 days/7 = 8\n",
    "####    2. Professional crewed station ( day time crewed, night time retained ) = 6\n",
    "####    3. Retained station (part time professionals) = 4\n",
    "####    4. Volunteer crewed station = 2\n",
    "\n",
    "#### Some examples for Industrial fire brigade:\n",
    "####    1. None = 0\n",
    "####    2. Part time industrial fire brigade (working hours) = 6\n",
    "####    3. Full time industrial fire brigade 24 h/24  7 days/7 = 14\n",
    "\n"
   ]
  },
  {
   "cell_type": "code",
   "execution_count": 4,
   "metadata": {},
   "outputs": [],
   "source": [
    "autoFireDet = input(\"Guaranteed transmission of the detection signal to the fire brigade directly  / through control room:(OK/NOK)\")\n",
    "s1 = float(input(\"Automatic fire detection: \"))\n",
    "if autoFireDet == \"NOK\":\n",
    "    s1Final = 0.0\n",
    "else:\n",
    "    s1Final = s1\n",
    "    \n",
    "faultMonitor = input(\"Electronic supervised system - fault monitoring:(OK/NOK)\")\n",
    "\n",
    "if s1Final == 0:\n",
    "    s10 = 0\n",
    "else:\n",
    "    if s1 < 3:\n",
    "        s10 = 0\n",
    "    else:\n",
    "        if faultMonitor == \"OK\":\n",
    "            s10 = 2\n",
    "        else:\n",
    "            s10 = 0\n",
    "            \n",
    "detectorRoom = input(\"Individual identification of small fire zones (detector, room):(OK/NOK)\")\n",
    "if s1Final == 0:\n",
    "    s11 = 0\n",
    "else:\n",
    "    if detectorRoom == \"OK\":\n",
    "        s11 = 2\n",
    "    else:\n",
    "        s11 = 0\n",
    "\n",
    "s2 = input(\"Improved water supply(Inexhaustible water supplies (4 times adequate)):(OK/NOK)\")\n",
    "if s2 == \"OK\":\n",
    "    s2 = 3\n",
    "else:\n",
    "    s2 = 0\n",
    "\n",
    "s3 = input(\"Reserved for fire fighting only:(OK/NOK)\")\n",
    "if s3 == \"OK\":\n",
    "    s3 = 2\n",
    "else:\n",
    "    s3 = 0\n",
    "    \n",
    "s4 = input(\"Control of water supply(Under control of building user (independent)):(OK/NOK)\")\n",
    "if s4 == \"OK\":\n",
    "    s4 = 2\n",
    "else:\n",
    "    s4 = 0\n",
    "\n",
    "s5 = float(input(\"Pressure / Flow energy source:\"))\n",
    "s6 = float(input(\"Sprinkler protection:\"))\n",
    "s7 = float(input(\"Other automatic:\"))\n",
    "s8 = float(input(\"Responding fire station:\"))\n",
    "s9 = float(input(\"Industrial fire brigade:\"))\n",
    "\n",
    "s = s1 + s2 + s3 + s4 + s5 + s6 + s7 + s8 + s9 + s10 + s11\n",
    "S = np.power(1.05,s)"
   ]
  },
  {
   "cell_type": "code",
   "execution_count": 5,
   "metadata": {},
   "outputs": [
    {
     "name": "stdout",
     "output_type": "stream",
     "text": [
      "11.4673997857537\n"
     ]
    }
   ],
   "source": [
    "print(S)"
   ]
  },
  {
   "attachments": {},
   "cell_type": "markdown",
   "metadata": {},
   "source": [
    "### Fire resistance factor F"
   ]
  },
  {
   "cell_type": "code",
   "execution_count": 16,
   "metadata": {},
   "outputs": [],
   "source": [
    "fs = float(input(\"Structural /compartments(Average fire resistance (REI) of the structural and separating elements(min)):\"))\n",
    "ff = float(input(\"Outside walls(Average fire resistance of the outside walls(E = flame tightness),(min)):\"))\n",
    "fd = float(input(\"Ceiling or roof(Average fire resistance of the ceiling or the roof (RE),(min)):\"))\n",
    "fw = float(input(\"Interior walls(Average fire resistance of interior walls (EI),(min)):\"))\n",
    "\n",
    "f= (fs / 2) + (ff / 4) + (fd / 8) + (fw / 8)\n",
    "Fo =1+(fs/100)-(np.power(fs,2.5)/1000000)\n",
    "\n",
    "F =(1+(f/100)-(np.power(f,2.5)/1000000))*(1-((S-1)/40))"
   ]
  },
  {
   "cell_type": "code",
   "execution_count": null,
   "metadata": {},
   "outputs": [],
   "source": [
    "print(F)\n"
   ]
  },
  {
   "cell_type": "markdown",
   "metadata": {},
   "source": [
    "### Escape protection factor U\n",
    "#### Some examples for Sub compartments:\n",
    "####    1. None = 0\n",
    "####    2. EI30 Sub compartments (fire areas of max.1000 m²) = 2\n",
    "####    3. EI60 Sub compartments (fire areas of max.1000 m²) = 4\n",
    "\n",
    "#### Some examples for Exit path protection:\n",
    "####    1. No stairs used for exit = 0\n",
    "####    2. Open inside stairs = 0\n",
    "####    3. Single enclosed inside stair = 1\n",
    "####    4. More than one enclosed inside stair = 2\n",
    "####    5. At least one enclosed and smoke protected inside stair = 3\n",
    "####    6. More than one enclosed and smoke protected inside stair = 4\n",
    "####    7. Inside stair(s) and 1 outside stair = 6\n",
    "####    8. Inside stair(s) and more than 1 outside stair = 8\n",
    "####    9. Inside stair and outside toboggan or ladders for 1st / 2nd floor = 2\n",
    "\n",
    "#### Some examples for Horizontal exits:\n",
    "####    1. No horizontal exits = 0\n",
    "####    2. Horizontal exit to adjacent compartment  min. 50% of required capacity = 2\n",
    "####    3. Horizontal exit(s) to adjacent compartment(s) 100% of required capacity = 8\n",
    "\n",
    "#### Some examples for Sprinklers:\n",
    "####    1. None = 0\n",
    "####    2. Sprinklers only in areas with increased fire risk = 5\n",
    "####    3. Whole compartment protected by sprinklers = 10"
   ]
  },
  {
   "cell_type": "code",
   "execution_count": null,
   "metadata": {},
   "outputs": [],
   "source": [
    "u1Part1 = input(\"Partial detection system, only in areas critical for people safety: (OK/NOK)\")\n",
    "u1Part2 = input(\"No more than 300 persons to be warned simultaneously: (OK/NOK)\")\n",
    "u1Part3 = input(\"Evacuation alarm with spoken messages by voice communication system: (OK/NOK)\")\n",
    "\n",
    "if u1Part1 == \"NOK\":\n",
    "    u1Part1 = 0.0\n",
    "else:\n",
    "    if s1 > 0.0:\n",
    "        u1Part1 = 0.0\n",
    "    else:\n",
    "        u1Part1 = 2.0\n",
    "        \n",
    "if u1Part2 == \"NOK\":\n",
    "    u1Part2 = 0.0\n",
    "else:\n",
    "    u1Part2 = 2.0\n",
    "    \n",
    "if u1Part3 == \"NOK\":\n",
    "    u1Part3 = 0.0\n",
    "else:\n",
    "    u1Part3 = 6.0\n",
    "\n",
    "u2 = float(input(\"Sub compartments: \")) \n",
    "u3 = float(input(\"Exit path protection: \")) \n",
    "u3Part2 = float(input(\"Horizontal exits: \")) \n",
    "u3Part3 = input(\"Signage and illumination(Exit paths completely marked and illuminated): (OK/NOK)\")\n",
    "\n",
    "if u3Part3 == \"NOK\":\n",
    "    u3Part3 = 0.0\n",
    "else:\n",
    "    u3Part3 = 4.0\n",
    "    \n",
    "u4 = float(input(\"Sprinklers: \")) \n",
    "u5 = s7\n",
    "u6 = input(\"Smoke vents actuation(Smoke venting actuated by automatic detection): (OK/NOK)\")\n",
    "\n",
    "if u6 == \"NOK\":\n",
    "    u6 = 0.0\n",
    "else:\n",
    "    if s1 == 0.0:\n",
    "        u6 = 0.0\n",
    "    else:\n",
    "        u6 = 3.0\n",
    "\n",
    "u7 = s8\n",
    "u8 = s9\n",
    "\n",
    "u = u1Part1 + u1Part2 + u1Part3 + u2 + u3 + u3Part2 + u3Part3 + u4 + u5 + u6 + u7 + u8\n",
    "U = np.power(1.05,u)"
   ]
  },
  {
   "cell_type": "code",
   "execution_count": null,
   "metadata": {},
   "outputs": [],
   "source": [
    "print(U)"
   ]
  },
  {
   "cell_type": "markdown",
   "metadata": {},
   "source": [
    "### Salvage factor Y"
   ]
  },
  {
   "cell_type": "code",
   "execution_count": null,
   "metadata": {},
   "outputs": [],
   "source": [
    "y1 = u2\n",
    "y2 = input(\"Detection(Partial detection system, only in areas critical for business continuity): (OK/NOK)\")\n",
    "\n",
    "if y2 == \"NOK\":\n",
    "    y2 = 0.0\n",
    "else:\n",
    "    if s1 > 0.0:\n",
    "        y2 = 0.0\n",
    "    else:\n",
    "        y2 = 2.0\n",
    "\n",
    "y3 = input(\"Sprinkler(Local sprinkler protection for critical equipment): (OK/NOK)\")\n",
    "\n",
    "if y3 == \"NOK\":\n",
    "    y3 = 0.0\n",
    "else:\n",
    "    if s6 > 0.0:\n",
    "        y3 = 0.0\n",
    "    else:\n",
    "        y3 = 2.0\n",
    "        \n",
    "y4 = input(\"Other systems(Other LOCAL automatic extinguishing systems (CO2, foam, inert gas)): (OK/NOK)\")\n",
    "\n",
    "if y4 == \"NOK\":\n",
    "    y4 = 0.0\n",
    "else:\n",
    "    if s7 > 0.0:\n",
    "        y4 = 0.0\n",
    "    else:\n",
    "        y4 = 2.0\n",
    "        \n",
    "y5 = input(\"FINANCIAL(Safeguarded financial and economical data): (OK/NOK)\")\n",
    "\n",
    "if y5 == \"NOK\":\n",
    "    y5 = 0.0\n",
    "else:\n",
    "    y5 = 2.0\n",
    "\n",
    "y6 = input(\"EQUIPMENT(Easy access to spare parts and replacements): (OK/NOK)\")\n",
    "\n",
    "if y6 == \"NOK\":\n",
    "    y6 = 0.0\n",
    "else:\n",
    "    y6 = 4.0\n",
    "\n",
    "y7 = input(\"REPAIRS(Repairs possible with minimal help): (OK/NOK)\")\n",
    "\n",
    "if y7 == \"NOK\":\n",
    "    y7 = 0.0\n",
    "else:\n",
    "    y7 = 2.0\n",
    "\n",
    "y8 = input(\"RELOCATION(Immediate transfer of activities possible): (OK/NOK)\")\n",
    "\n",
    "if y8 == \"NOK\":\n",
    "    y8 = 0.0\n",
    "else:\n",
    "    y8 = 4.0\n",
    "    \n",
    "y9 = input(\"COOPERATION(Written agreements for relocation exist): (OK/NOK)\")\n",
    "\n",
    "if y9 == \"NOK\":\n",
    "    y9 = 0.0\n",
    "else:\n",
    "    y9 = 3.0\n",
    "    \n",
    "y10 = input(\"PRODUCTION CENTRES(Production capacity available at more than one location): (OK/NOK)\")\n",
    "\n",
    "if y10 == \"NOK\":\n",
    "    y10 = 0.0\n",
    "else:\n",
    "    y10 = 4.0\n",
    "    \n",
    "y = y1 + y2 + y3 + y4 + y5 + y6 + y7 + y8 + y9 + y10\n",
    "Y = np.power(1.05,y)"
   ]
  },
  {
   "cell_type": "code",
   "execution_count": null,
   "metadata": {},
   "outputs": [],
   "source": [
    "print(Y)"
   ]
  },
  {
   "cell_type": "markdown",
   "metadata": {},
   "source": [
    "## Calaculating D:\n",
    "### D =  property (building and content)\n",
    "### D1 =  occupants (people)\n",
    "### D2 =  activities"
   ]
  },
  {
   "cell_type": "code",
   "execution_count": null,
   "metadata": {},
   "outputs": [],
   "source": [
    "D = W * N * S * F\n",
    "D1 = N * U\n",
    "D2 = W * N * S * Y"
   ]
  },
  {
   "cell_type": "code",
   "execution_count": null,
   "metadata": {},
   "outputs": [],
   "source": [
    "print(D)\n",
    "print(D1)\n",
    "print(D2)"
   ]
  },
  {
   "cell_type": "markdown",
   "metadata": {},
   "source": [
    "## Calaculating Risk(R):\n",
    "### R =  property (building and content)\n",
    "### R1 =  occupants (people)\n",
    "### R2 =  activities"
   ]
  },
  {
   "cell_type": "code",
   "execution_count": null,
   "metadata": {},
   "outputs": [],
   "source": [
    "R = P / (A * D)\n",
    "R1 = P1 / (A1 * D1)\n",
    "R2 = P2 / (A2 * D2)"
   ]
  },
  {
   "cell_type": "code",
   "execution_count": null,
   "metadata": {},
   "outputs": [],
   "source": [
    "print(R)\n",
    "print(R1)\n",
    "print(R2)"
   ]
  }
 ],
 "metadata": {
  "kernelspec": {
   "display_name": "Python 3",
   "language": "python",
   "name": "python3"
  },
  "language_info": {
   "codemirror_mode": {
    "name": "ipython",
    "version": 3
   },
   "file_extension": ".py",
   "mimetype": "text/x-python",
   "name": "python",
   "nbconvert_exporter": "python",
   "pygments_lexer": "ipython3",
   "version": "3.10.5"
  },
  "orig_nbformat": 4
 },
 "nbformat": 4,
 "nbformat_minor": 2
}
